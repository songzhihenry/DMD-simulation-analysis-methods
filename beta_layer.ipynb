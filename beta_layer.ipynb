{
 "cells": [
  {
   "cell_type": "code",
   "execution_count": 1,
   "metadata": {},
   "outputs": [],
   "source": [
    "import numpy as np\n",
    "import matplotlib.pyplot as plt\n",
    "from matplotlib.ticker import AutoMinorLocator\n",
    "from tqdm import tqdm"
   ]
  },
  {
   "cell_type": "code",
   "execution_count": 2,
   "metadata": {},
   "outputs": [],
   "source": [
    "def merge_lists(lists):\n",
    "    # Check if lists is empty\n",
    "    if not lists:\n",
    "        return lists\n",
    "    # Initialize the result list with the first list's set to start the merging process\n",
    "    merged = [set(lists[0])]\n",
    "    for current in lists[1:]:\n",
    "        current_set = set(current)\n",
    "        found = False\n",
    "        # Attempt to merge current set with an existing merged set\n",
    "        for i in range(len(merged)):\n",
    "            if not current_set.isdisjoint(merged[i]):\n",
    "                merged[i] = merged[i].union(current_set)\n",
    "                found = True\n",
    "                break\n",
    "        if not found:\n",
    "            merged.append(current_set)\n",
    "    # Reduce any possible overlaps after the initial merge\n",
    "    for i in range(len(merged)):\n",
    "        for j in range(i+1, len(merged)):\n",
    "            if not merged[i].isdisjoint(merged[j]):\n",
    "                merged[i] = merged[i].union(merged[j])\n",
    "                merged[j] = set()\n",
    "    # Filter out any empty sets and convert back to lists\n",
    "    merged = [list(group) for group in merged if group]\n",
    "    return merged"
   ]
  },
  {
   "cell_type": "code",
   "execution_count": 3,
   "metadata": {},
   "outputs": [
    {
     "data": {
      "text/plain": [
       "\"path = '16mutauC11';i=7;frame=15\\ndata_dssp = [(line.strip('\\n').split()[1]).split('!') for line in open('data_all/{}-{}.dssp'.format(path,i+1)).readlines()[-frame:]]\\ndata_beta = [line.strip('\\n').split()[2:] for line in open('data_all/{}-{}.dssp'.format(path,i+1)).readlines()[-frame:]]\\ndata_cl = [line.strip('\\n').split()[1:] for line in open('data_all/{}-{}.bc'.format(path,i+1)).readlines()[-frame:]]\\nlayer_no = []\\nfor i in tqdm(range(len(data_cl)),desc='Processing each frame to count beta layers'):\\n    #split clusters and convert chain id to be int\\n    groups = [x for x in [[int(chain_str) for chain_str in chains_lst.split(',') if len(chains_lst.split(',')) > 1] for chains_lst in data_cl[i]] if x]\\n    if len(groups) == 0:\\n        new_groups = []\\n    else:\\n        #remove non-betasheet chain from group or each cluster and filter clusters that less than 2\\n        new_groups = list(filter(lambda pep: len(pep) > 1, [[chain for chain in group if 'E' in data_dssp[i][chain]] for group in groups])) \\n    sheet_ids = []\\n    for beta_cluster in data_beta[i]:\\n        #extract chain id from clustered beta oligomer\\n        beta_chain_ini = [int(x.split('.')[0])-1 for x in beta_cluster.split(',')]\\n        #remove the cases of beta hairpin and self-multi beta sheets and output sheet number\\n        sheet_ids.append(sorted(set(beta_chain_ini),key=beta_chain_ini.index))\\n    merged_sheet_ids = sum(sheet_ids, [])\\n    if len(merged_sheet_ids) != len(sorted(set(merged_sheet_ids))):\\n        sheet_ids = merge_lists(sheet_ids)\\n    if len(new_groups) == 0 or len(sheet_ids) == 0:\\n        layer_no.append(0)\\n    else:\\n        for group in new_groups:\\n            layer_no.append(sum([set(sheet).issubset(group) for sheet in sheet_ids]))\\nprint(layer_no)\""
      ]
     },
     "execution_count": 3,
     "metadata": {},
     "output_type": "execute_result"
    }
   ],
   "source": [
    "'''path = '16mutauC11';i=7;frame=15\n",
    "data_dssp = [(line.strip('\\n').split()[1]).split('!') for line in open('data_all/{}-{}.dssp'.format(path,i+1)).readlines()[-frame:]]\n",
    "data_beta = [line.strip('\\n').split()[2:] for line in open('data_all/{}-{}.dssp'.format(path,i+1)).readlines()[-frame:]]\n",
    "data_cl = [line.strip('\\n').split()[1:] for line in open('data_all/{}-{}.bc'.format(path,i+1)).readlines()[-frame:]]\n",
    "layer_no = []\n",
    "for i in tqdm(range(len(data_cl)),desc='Processing each frame to count beta layers'):\n",
    "    #split clusters and convert chain id to be int\n",
    "    groups = [x for x in [[int(chain_str) for chain_str in chains_lst.split(',') if len(chains_lst.split(',')) > 1] for chains_lst in data_cl[i]] if x]\n",
    "    if len(groups) == 0:\n",
    "        new_groups = []\n",
    "    else:\n",
    "        #remove non-betasheet chain from group or each cluster and filter clusters that less than 2\n",
    "        new_groups = list(filter(lambda pep: len(pep) > 1, [[chain for chain in group if 'E' in data_dssp[i][chain]] for group in groups])) \n",
    "    sheet_ids = []\n",
    "    for beta_cluster in data_beta[i]:\n",
    "        #extract chain id from clustered beta oligomer\n",
    "        beta_chain_ini = [int(x.split('.')[0])-1 for x in beta_cluster.split(',')]\n",
    "        #remove the cases of beta hairpin and self-multi beta sheets and output sheet number\n",
    "        sheet_ids.append(sorted(set(beta_chain_ini),key=beta_chain_ini.index))\n",
    "    merged_sheet_ids = sum(sheet_ids, [])\n",
    "    if len(merged_sheet_ids) != len(sorted(set(merged_sheet_ids))):\n",
    "        sheet_ids = merge_lists(sheet_ids)\n",
    "    if len(new_groups) == 0 or len(sheet_ids) == 0:\n",
    "        layer_no.append(0)\n",
    "    else:\n",
    "        for group in new_groups:\n",
    "            layer_no.append(sum([set(sheet).issubset(group) for sheet in sheet_ids]))\n",
    "print(layer_no)'''"
   ]
  },
  {
   "cell_type": "code",
   "execution_count": 4,
   "metadata": {},
   "outputs": [],
   "source": [
    "def beta_layer(data_beta,data_cl,data_dssp):\n",
    "    layer_no = []\n",
    "    for i in tqdm(range(len(data_cl)),desc='Processing each frame to count beta layers'):\n",
    "        #split clusters and convert chain id to be int\n",
    "        groups = [x for x in [[int(chain_str) for chain_str in chains_lst.split(',') if len(chains_lst.split(',')) > 1] for chains_lst in data_cl[i]] if x]\n",
    "        if len(groups) == 0:\n",
    "            new_groups = []\n",
    "        else:\n",
    "            #remove non-betasheet chain from group or each cluster and filter clusters that less than 2\n",
    "            new_groups = list(filter(lambda pep: len(pep) > 1, [[chain for chain in group if 'E' in data_dssp[i][chain]] for group in groups]))  \n",
    "        sheet_ids = []\n",
    "        for beta_cluster in data_beta[i]:\n",
    "            #extract chain id from clustered beta oligomer\n",
    "            beta_chain_ini = [int(x.split('.')[0])-1 for x in beta_cluster.split(',')]\n",
    "            #remove the cases of beta hairpin and self-multi beta sheets and output sheet number\n",
    "            sheet_ids.append(sorted(set(beta_chain_ini),key=beta_chain_ini.index))\n",
    "        merged_sheet_ids = sum(sheet_ids, [])\n",
    "        if len(merged_sheet_ids) != len(sorted(set(merged_sheet_ids))):\n",
    "            sheet_ids = merge_lists(sheet_ids)\n",
    "        if len(new_groups) == 0 or len(sheet_ids) == 0:\n",
    "            layer_no.append(0)\n",
    "        else:\n",
    "            for group in new_groups:\n",
    "                layer_no.append(sum([set(sheet).issubset(group) for sheet in sheet_ids]))\n",
    "    return layer_no"
   ]
  },
  {
   "cell_type": "code",
   "execution_count": 5,
   "metadata": {},
   "outputs": [
    {
     "name": "stdout",
     "output_type": "stream",
     "text": [
      "Processing 16tauC10: \n"
     ]
    },
    {
     "name": "stderr",
     "output_type": "stream",
     "text": [
      "Read dssp and beta cluster files: 100%|██████████| 50/50 [00:35<00:00,  1.40it/s]\n",
      "Processing each frame to count beta layers: 100%|██████████| 6000000/6000000 [01:40<00:00, 59827.42it/s]\n"
     ]
    },
    {
     "name": "stdout",
     "output_type": "stream",
     "text": [
      "Processing 16tauC11: \n"
     ]
    },
    {
     "name": "stderr",
     "output_type": "stream",
     "text": [
      "Read dssp and beta cluster files: 100%|██████████| 50/50 [00:34<00:00,  1.44it/s]\n",
      "Processing each frame to count beta layers: 100%|██████████| 6000000/6000000 [01:46<00:00, 56136.92it/s]\n"
     ]
    },
    {
     "name": "stdout",
     "output_type": "stream",
     "text": [
      "Processing 16mutauC11: \n"
     ]
    },
    {
     "name": "stderr",
     "output_type": "stream",
     "text": [
      "Read dssp and beta cluster files: 100%|██████████| 50/50 [00:35<00:00,  1.41it/s]\n",
      "Processing each frame to count beta layers: 100%|██████████| 6000000/6000000 [01:14<00:00, 80898.36it/s]\n"
     ]
    }
   ],
   "source": [
    "pathes = ['16tauC10','16tauC11','16mutauC11']\n",
    "frame = 120000\n",
    "for path in pathes:\n",
    "    data_cl = []\n",
    "    data_beta = []\n",
    "    data_dssp = []\n",
    "    print(f\"Processing {path}: \")\n",
    "    for i in tqdm(range(50),desc='Read dssp and beta cluster files'):\n",
    "        data_beta.extend([line.strip('\\n').split()[2:] for line in open('data_all/{}-{}.dssp'.format(path,i+1)).readlines()[-frame:]])\n",
    "        data_cl.extend([line.strip('\\n').split()[1:] for line in open('data_all/{}-{}.cluster'.format(path,i+1)).readlines()[-frame:]])\n",
    "        data_dssp.extend([(line.strip('\\n').split()[1]).split('!') for line in open('data_all/{}-{}.dssp'.format(path,i+1)).readlines()[-frame:]])\n",
    "    mw_layer = beta_layer(data_beta, data_cl, data_dssp)\n",
    "    np.save(f'beta_layer_{path}.npy',mw_layer)"
   ]
  },
  {
   "cell_type": "code",
   "execution_count": 6,
   "metadata": {},
   "outputs": [],
   "source": [
    "del data_cl\n",
    "del data_beta\n",
    "del data_dssp"
   ]
  },
  {
   "cell_type": "code",
   "execution_count": 10,
   "metadata": {},
   "outputs": [
    {
     "data": {
      "image/png": "[encoded data removed]",
      "text/plain": [
       "<Figure size 1000x600 with 1 Axes>"
      ]
     },
     "metadata": {},
     "output_type": "display_data"
    }
   ],
   "source": [
    "font_tick = 20\n",
    "font_label = 25\n",
    "axes_width = 1.7\n",
    "tick_length = 10\n",
    "fontstyle = 'Arial'\n",
    "plt.figure(figsize=(10,6))\n",
    "pathes = ['16tauC10','16tauC11']#,'16mutauC11']\n",
    "names = ['Sys A','Sys B']#,'tauC11-mut']\n",
    "colors = ('#2A3889','#B70B61')\n",
    "#Increase thickness of axes\n",
    "plt.gca().spines['top'].set_linewidth(axes_width)\n",
    "plt.gca().spines['right'].set_linewidth(axes_width)\n",
    "plt.gca().spines['bottom'].set_linewidth(axes_width)\n",
    "plt.gca().spines['left'].set_linewidth(axes_width)\n",
    "#add  minor ticks\n",
    "#plt.gca().xaxis.set_minor_locator(AutoMinorLocator(2))\n",
    "plt.gca().yaxis.set_minor_locator(AutoMinorLocator(4))\n",
    "#control ticks\n",
    "plt.tick_params(axis='both',labelsize=font_tick,width=axes_width,length=tick_length)\n",
    "plt.gca().xaxis.set_tick_params(which='minor', width=axes_width, length=tick_length/2)\n",
    "plt.gca().yaxis.set_tick_params(which='minor', width=axes_width, length=tick_length/2)\n",
    "width = 0.2\n",
    "for i,path in enumerate(pathes):\n",
    "    mw_layer = np.load(f'beta_layer_{path}.npy')\n",
    "    vmax = 4#mw_layer.max()\n",
    "    result = np.histogram(mw_layer,bins=vmax,range=[0,vmax],density=False)\n",
    "    x_axis = result[1][:-1]\n",
    "    plt.bar(x_axis-width*((i-0.5)),result[0]/np.sum(result[0]),label=names[i],width=width,color=colors[i])\n",
    "ax = plt.gca()\n",
    "for label_x,label_y in zip(ax.get_xticklabels(),ax.get_yticklabels()):\n",
    "    label_x.set_fontname(fontstyle)\n",
    "    label_y.set_fontname(fontstyle)\n",
    "plt.xlabel(u'\\u03B2-sheet layers',fontsize=font_label,family=fontstyle)\n",
    "plt.ylabel('Probability',fontsize=font_label,family=fontstyle)\n",
    "plt.xlim(0,3.5)\n",
    "plt.ylim(0,0.8)\n",
    "plt.legend(prop={'size':font_tick-4,'family':fontstyle},frameon=False)\n",
    "plt.savefig('beta_layer.eps',format='eps',transparent=True)"
   ]
  },
  {
   "cell_type": "code",
   "execution_count": null,
   "metadata": {},
   "outputs": [],
   "source": []
  }
 ],
 "metadata": {
  "kernelspec": {
   "display_name": "base",
   "language": "python",
   "name": "python3"
  },
  "language_info": {
   "codemirror_mode": {
    "name": "ipython",
    "version": 3
   },
   "file_extension": ".py",
   "mimetype": "text/x-python",
   "name": "python",
   "nbconvert_exporter": "python",
   "pygments_lexer": "ipython3",
   "version": "3.10.13"
  }
 },
 "nbformat": 4,
 "nbformat_minor": 2
}
