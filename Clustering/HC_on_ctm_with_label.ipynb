{
 "cells": [
  {
   "cell_type": "code",
   "execution_count": 1,
   "id": "4f6a64da",
   "metadata": {},
   "outputs": [],
   "source": [
    "import numpy as np\n",
    "import pandas as pd\n",
    "from scipy.cluster.hierarchy import dendrogram, linkage, fcluster\n",
    "from scipy.spatial.distance import pdist\n",
    "import matplotlib.pyplot as plt\n",
    "from scipy.cluster.hierarchy import fcluster"
   ]
  },
  {
   "cell_type": "markdown",
   "id": "d768c695",
   "metadata": {},
   "source": [
    "# Ab42"
   ]
  },
  {
   "cell_type": "code",
   "execution_count": 2,
   "id": "7cdec59a",
   "metadata": {},
   "outputs": [
    {
     "data": {
      "text/plain": [
       "\"\\ndistance_matrix = pdist(data, 'euclidean')\\nnp.save(f'distance_matrix_ap{ap}.npy',distance_matrix)\\n\""
      ]
     },
     "execution_count": 2,
     "metadata": {},
     "output_type": "execute_result"
    }
   ],
   "source": [
    "ap = 4\n",
    "#get pairwise distance\n",
    "data = np.load(f'./ab42/Ap{ap}-Ab-ctm-all.npy')\n",
    "'''\n",
    "distance_matrix = pdist(data, 'euclidean')\n",
    "np.save(f'distance_matrix_ap{ap}.npy',distance_matrix)\n",
    "'''"
   ]
  },
  {
   "cell_type": "code",
   "execution_count": 3,
   "id": "e7d55c42",
   "metadata": {},
   "outputs": [],
   "source": [
    "#Calculate the distance matrix and perform hierarchical clustering using the linkage function\n",
    "distance_matrix = np.load(f'distance_matrix_ap{ap}.npy')\n",
    "method = 'ward'\n",
    "Z = linkage(distance_matrix, method=method)"
   ]
  },
  {
   "cell_type": "code",
   "execution_count": 4,
   "id": "f069c55e",
   "metadata": {},
   "outputs": [],
   "source": [
    "#Cut the tree to form clusters\n",
    "n_k = 15\n",
    "clusters = fcluster(Z, n_k, criterion='maxclust')"
   ]
  },
  {
   "cell_type": "code",
   "execution_count": 55,
   "id": "25da8d5f",
   "metadata": {},
   "outputs": [],
   "source": [
    "# combine the data and cluster labels into a single DataFrame\n",
    "data_with_clusters = pd.DataFrame(data)\n",
    "data_with_clusters['cluster_label'] = clusters\n",
    "ctm_label = [hang.strip('\\n') for hang in open(f'./ab42/ap{ap}_ctm_labels.txt')]\n",
    "#49th_trj-9m-9301th_frame\n",
    "data_with_clusters['trj'] = [int((lb.split('-')[0])[:-6]) for lb in ctm_label]\n",
    "data_with_clusters['time'] = [int((lb.split('-')[1])[:-1]) for lb in ctm_label]\n",
    "data_with_clusters['frame'] = [int((lb.split('-')[2])[:-8]) for lb in ctm_label]\n",
    "data_with_clusters['ctm_label'] = [hang.strip('\\n') for hang in open(f'./ab42/ap{ap}_ctm_labels.txt')]"
   ]
  },
  {
   "cell_type": "code",
   "execution_count": 56,
   "id": "bd1a10cf",
   "metadata": {},
   "outputs": [
    {
     "data": {
      "text/plain": [
       "array([  101,   385,   262,   206, 14038,   211,   103,  1261,  6916,\n",
       "          95,   100,   111,   211,   215,   235], dtype=int64)"
      ]
     },
     "execution_count": 56,
     "metadata": {},
     "output_type": "execute_result"
    }
   ],
   "source": [
    "# Compute the centroid for each cluster df.drop(columns=['A'])\n",
    "centroids = data_with_clusters.drop(columns=['ctm_label','trj','time','frame']).groupby('cluster_label').mean().values\n",
    "#centroids\n",
    "cluster_sizes = data_with_clusters.drop(columns=['ctm_label','trj','time','frame']).groupby('cluster_label').size().values\n",
    "cluster_sizes"
   ]
  },
  {
   "cell_type": "code",
   "execution_count": 59,
   "id": "31815307",
   "metadata": {},
   "outputs": [],
   "source": [
    "centroid_id = []\n",
    "for i in range(1,n_k+1):\n",
    "    each_cluster = data_with_clusters.loc[data_with_clusters['cluster_label'] == i]\n",
    "    each_cluster_data = each_cluster.drop(columns=['cluster_label','ctm_label','trj','time','frame'])\n",
    "    distances = each_cluster_data.apply(lambda row: np.linalg.norm(row.to_numpy() - centroids[i-1]),axis=1)\n",
    "    centroid_id.append(distances.idxmin())"
   ]
  },
  {
   "cell_type": "code",
   "execution_count": 60,
   "id": "f1272c9c",
   "metadata": {},
   "outputs": [
    {
     "data": {
      "text/plain": [
       "[22589,\n",
       " 22630,\n",
       " 5161,\n",
       " 9009,\n",
       " 0,\n",
       " 10577,\n",
       " 1816,\n",
       " 9139,\n",
       " 5555,\n",
       " 16750,\n",
       " 2863,\n",
       " 5032,\n",
       " 4307,\n",
       " 23262,\n",
       " 10223]"
      ]
     },
     "execution_count": 60,
     "metadata": {},
     "output_type": "execute_result"
    }
   ],
   "source": [
    "centroid_id"
   ]
  },
  {
   "cell_type": "code",
   "execution_count": 61,
   "id": "4287d26d",
   "metadata": {},
   "outputs": [
    {
     "name": "stdout",
     "output_type": "stream",
     "text": [
      "47th_trj-5m-8101th_frame\n",
      "47th_trj-6m-2201th_frame\n",
      "11th_trj-7m-5501th_frame\n",
      "19th_trj-7m-401th_frame\n",
      "1th_trj-5m-1th_frame\n",
      "22th_trj-8m-1th_frame\n",
      "4th_trj-8m-5401th_frame\n",
      "19th_trj-8m-4101th_frame\n",
      "12th_trj-6m-6301th_frame\n",
      "35th_trj-5m-4701th_frame\n",
      "6th_trj-9m-2901th_frame\n",
      "11th_trj-6m-2601th_frame\n",
      "9th_trj-8m-8801th_frame\n",
      "48th_trj-7m-6801th_frame\n",
      "21th_trj-9m-3701th_frame\n"
     ]
    }
   ],
   "source": [
    "for id in centroid_id:\n",
    "    print(data_with_clusters.iloc[id]['ctm_label'])"
   ]
  },
  {
   "cell_type": "code",
   "execution_count": 64,
   "id": "e8048f8e",
   "metadata": {},
   "outputs": [
    {
     "data": {
      "text/html": [
       "<div>\n",
       "<style scoped>\n",
       "    .dataframe tbody tr th:only-of-type {\n",
       "        vertical-align: middle;\n",
       "    }\n",
       "\n",
       "    .dataframe tbody tr th {\n",
       "        vertical-align: top;\n",
       "    }\n",
       "\n",
       "    .dataframe thead th {\n",
       "        text-align: right;\n",
       "    }\n",
       "</style>\n",
       "<table border=\"1\" class=\"dataframe\">\n",
       "  <thead>\n",
       "    <tr style=\"text-align: right;\">\n",
       "      <th></th>\n",
       "      <th>0</th>\n",
       "      <th>1</th>\n",
       "      <th>2</th>\n",
       "      <th>3</th>\n",
       "      <th>4</th>\n",
       "      <th>5</th>\n",
       "      <th>6</th>\n",
       "      <th>7</th>\n",
       "      <th>8</th>\n",
       "      <th>9</th>\n",
       "      <th>...</th>\n",
       "      <th>6043</th>\n",
       "      <th>6044</th>\n",
       "      <th>6045</th>\n",
       "      <th>6046</th>\n",
       "      <th>6047</th>\n",
       "      <th>cluster_label</th>\n",
       "      <th>trj</th>\n",
       "      <th>time</th>\n",
       "      <th>frame</th>\n",
       "      <th>ctm_label</th>\n",
       "    </tr>\n",
       "  </thead>\n",
       "  <tbody>\n",
       "    <tr>\n",
       "      <th>22609</th>\n",
       "      <td>0.0</td>\n",
       "      <td>0.0</td>\n",
       "      <td>0.0</td>\n",
       "      <td>0.0</td>\n",
       "      <td>3.0</td>\n",
       "      <td>0.0</td>\n",
       "      <td>0.0</td>\n",
       "      <td>0.0</td>\n",
       "      <td>0.0</td>\n",
       "      <td>0.0</td>\n",
       "      <td>...</td>\n",
       "      <td>0.0</td>\n",
       "      <td>0.0</td>\n",
       "      <td>0.0</td>\n",
       "      <td>0.0</td>\n",
       "      <td>0.0</td>\n",
       "      <td>2</td>\n",
       "      <td>47</td>\n",
       "      <td>6</td>\n",
       "      <td>101</td>\n",
       "      <td>47th_trj-6m-101th_frame</td>\n",
       "    </tr>\n",
       "    <tr>\n",
       "      <th>22610</th>\n",
       "      <td>0.0</td>\n",
       "      <td>0.0</td>\n",
       "      <td>88.0</td>\n",
       "      <td>0.0</td>\n",
       "      <td>0.0</td>\n",
       "      <td>0.0</td>\n",
       "      <td>0.0</td>\n",
       "      <td>0.0</td>\n",
       "      <td>0.0</td>\n",
       "      <td>0.0</td>\n",
       "      <td>...</td>\n",
       "      <td>0.0</td>\n",
       "      <td>0.0</td>\n",
       "      <td>0.0</td>\n",
       "      <td>0.0</td>\n",
       "      <td>0.0</td>\n",
       "      <td>2</td>\n",
       "      <td>47</td>\n",
       "      <td>6</td>\n",
       "      <td>201</td>\n",
       "      <td>47th_trj-6m-201th_frame</td>\n",
       "    </tr>\n",
       "    <tr>\n",
       "      <th>22611</th>\n",
       "      <td>0.0</td>\n",
       "      <td>0.0</td>\n",
       "      <td>0.0</td>\n",
       "      <td>0.0</td>\n",
       "      <td>0.0</td>\n",
       "      <td>0.0</td>\n",
       "      <td>0.0</td>\n",
       "      <td>0.0</td>\n",
       "      <td>0.0</td>\n",
       "      <td>0.0</td>\n",
       "      <td>...</td>\n",
       "      <td>0.0</td>\n",
       "      <td>0.0</td>\n",
       "      <td>0.0</td>\n",
       "      <td>0.0</td>\n",
       "      <td>0.0</td>\n",
       "      <td>2</td>\n",
       "      <td>47</td>\n",
       "      <td>6</td>\n",
       "      <td>301</td>\n",
       "      <td>47th_trj-6m-301th_frame</td>\n",
       "    </tr>\n",
       "    <tr>\n",
       "      <th>22612</th>\n",
       "      <td>0.0</td>\n",
       "      <td>0.0</td>\n",
       "      <td>0.0</td>\n",
       "      <td>0.0</td>\n",
       "      <td>0.0</td>\n",
       "      <td>0.0</td>\n",
       "      <td>0.0</td>\n",
       "      <td>0.0</td>\n",
       "      <td>0.0</td>\n",
       "      <td>0.0</td>\n",
       "      <td>...</td>\n",
       "      <td>0.0</td>\n",
       "      <td>0.0</td>\n",
       "      <td>0.0</td>\n",
       "      <td>0.0</td>\n",
       "      <td>0.0</td>\n",
       "      <td>2</td>\n",
       "      <td>47</td>\n",
       "      <td>6</td>\n",
       "      <td>401</td>\n",
       "      <td>47th_trj-6m-401th_frame</td>\n",
       "    </tr>\n",
       "    <tr>\n",
       "      <th>22613</th>\n",
       "      <td>0.0</td>\n",
       "      <td>0.0</td>\n",
       "      <td>0.0</td>\n",
       "      <td>0.0</td>\n",
       "      <td>0.0</td>\n",
       "      <td>0.0</td>\n",
       "      <td>0.0</td>\n",
       "      <td>0.0</td>\n",
       "      <td>0.0</td>\n",
       "      <td>0.0</td>\n",
       "      <td>...</td>\n",
       "      <td>0.0</td>\n",
       "      <td>0.0</td>\n",
       "      <td>0.0</td>\n",
       "      <td>0.0</td>\n",
       "      <td>0.0</td>\n",
       "      <td>2</td>\n",
       "      <td>47</td>\n",
       "      <td>6</td>\n",
       "      <td>501</td>\n",
       "      <td>47th_trj-6m-501th_frame</td>\n",
       "    </tr>\n",
       "    <tr>\n",
       "      <th>...</th>\n",
       "      <td>...</td>\n",
       "      <td>...</td>\n",
       "      <td>...</td>\n",
       "      <td>...</td>\n",
       "      <td>...</td>\n",
       "      <td>...</td>\n",
       "      <td>...</td>\n",
       "      <td>...</td>\n",
       "      <td>...</td>\n",
       "      <td>...</td>\n",
       "      <td>...</td>\n",
       "      <td>...</td>\n",
       "      <td>...</td>\n",
       "      <td>...</td>\n",
       "      <td>...</td>\n",
       "      <td>...</td>\n",
       "      <td>...</td>\n",
       "      <td>...</td>\n",
       "      <td>...</td>\n",
       "      <td>...</td>\n",
       "      <td>...</td>\n",
       "    </tr>\n",
       "    <tr>\n",
       "      <th>22989</th>\n",
       "      <td>0.0</td>\n",
       "      <td>0.0</td>\n",
       "      <td>0.0</td>\n",
       "      <td>0.0</td>\n",
       "      <td>0.0</td>\n",
       "      <td>0.0</td>\n",
       "      <td>0.0</td>\n",
       "      <td>0.0</td>\n",
       "      <td>0.0</td>\n",
       "      <td>0.0</td>\n",
       "      <td>...</td>\n",
       "      <td>0.0</td>\n",
       "      <td>0.0</td>\n",
       "      <td>0.0</td>\n",
       "      <td>0.0</td>\n",
       "      <td>0.0</td>\n",
       "      <td>2</td>\n",
       "      <td>47</td>\n",
       "      <td>9</td>\n",
       "      <td>8901</td>\n",
       "      <td>47th_trj-9m-8901th_frame</td>\n",
       "    </tr>\n",
       "    <tr>\n",
       "      <th>22990</th>\n",
       "      <td>0.0</td>\n",
       "      <td>0.0</td>\n",
       "      <td>0.0</td>\n",
       "      <td>0.0</td>\n",
       "      <td>0.0</td>\n",
       "      <td>0.0</td>\n",
       "      <td>0.0</td>\n",
       "      <td>0.0</td>\n",
       "      <td>0.0</td>\n",
       "      <td>0.0</td>\n",
       "      <td>...</td>\n",
       "      <td>0.0</td>\n",
       "      <td>0.0</td>\n",
       "      <td>0.0</td>\n",
       "      <td>0.0</td>\n",
       "      <td>0.0</td>\n",
       "      <td>2</td>\n",
       "      <td>47</td>\n",
       "      <td>9</td>\n",
       "      <td>9001</td>\n",
       "      <td>47th_trj-9m-9001th_frame</td>\n",
       "    </tr>\n",
       "    <tr>\n",
       "      <th>22991</th>\n",
       "      <td>0.0</td>\n",
       "      <td>0.0</td>\n",
       "      <td>0.0</td>\n",
       "      <td>0.0</td>\n",
       "      <td>0.0</td>\n",
       "      <td>0.0</td>\n",
       "      <td>0.0</td>\n",
       "      <td>0.0</td>\n",
       "      <td>0.0</td>\n",
       "      <td>0.0</td>\n",
       "      <td>...</td>\n",
       "      <td>0.0</td>\n",
       "      <td>0.0</td>\n",
       "      <td>0.0</td>\n",
       "      <td>0.0</td>\n",
       "      <td>0.0</td>\n",
       "      <td>2</td>\n",
       "      <td>47</td>\n",
       "      <td>9</td>\n",
       "      <td>9101</td>\n",
       "      <td>47th_trj-9m-9101th_frame</td>\n",
       "    </tr>\n",
       "    <tr>\n",
       "      <th>22992</th>\n",
       "      <td>0.0</td>\n",
       "      <td>0.0</td>\n",
       "      <td>0.0</td>\n",
       "      <td>0.0</td>\n",
       "      <td>0.0</td>\n",
       "      <td>0.0</td>\n",
       "      <td>0.0</td>\n",
       "      <td>0.0</td>\n",
       "      <td>0.0</td>\n",
       "      <td>0.0</td>\n",
       "      <td>...</td>\n",
       "      <td>0.0</td>\n",
       "      <td>0.0</td>\n",
       "      <td>0.0</td>\n",
       "      <td>0.0</td>\n",
       "      <td>0.0</td>\n",
       "      <td>2</td>\n",
       "      <td>47</td>\n",
       "      <td>9</td>\n",
       "      <td>9201</td>\n",
       "      <td>47th_trj-9m-9201th_frame</td>\n",
       "    </tr>\n",
       "    <tr>\n",
       "      <th>22993</th>\n",
       "      <td>0.0</td>\n",
       "      <td>0.0</td>\n",
       "      <td>0.0</td>\n",
       "      <td>0.0</td>\n",
       "      <td>0.0</td>\n",
       "      <td>0.0</td>\n",
       "      <td>0.0</td>\n",
       "      <td>0.0</td>\n",
       "      <td>0.0</td>\n",
       "      <td>0.0</td>\n",
       "      <td>...</td>\n",
       "      <td>0.0</td>\n",
       "      <td>0.0</td>\n",
       "      <td>0.0</td>\n",
       "      <td>0.0</td>\n",
       "      <td>0.0</td>\n",
       "      <td>2</td>\n",
       "      <td>47</td>\n",
       "      <td>9</td>\n",
       "      <td>9301</td>\n",
       "      <td>47th_trj-9m-9301th_frame</td>\n",
       "    </tr>\n",
       "  </tbody>\n",
       "</table>\n",
       "<p>385 rows × 6053 columns</p>\n",
       "</div>"
      ],
      "text/plain": [
       "         0    1     2    3    4    5    6    7    8    9  ...  6043  6044  \\\n",
       "22609  0.0  0.0   0.0  0.0  3.0  0.0  0.0  0.0  0.0  0.0  ...   0.0   0.0   \n",
       "22610  0.0  0.0  88.0  0.0  0.0  0.0  0.0  0.0  0.0  0.0  ...   0.0   0.0   \n",
       "22611  0.0  0.0   0.0  0.0  0.0  0.0  0.0  0.0  0.0  0.0  ...   0.0   0.0   \n",
       "22612  0.0  0.0   0.0  0.0  0.0  0.0  0.0  0.0  0.0  0.0  ...   0.0   0.0   \n",
       "22613  0.0  0.0   0.0  0.0  0.0  0.0  0.0  0.0  0.0  0.0  ...   0.0   0.0   \n",
       "...    ...  ...   ...  ...  ...  ...  ...  ...  ...  ...  ...   ...   ...   \n",
       "22989  0.0  0.0   0.0  0.0  0.0  0.0  0.0  0.0  0.0  0.0  ...   0.0   0.0   \n",
       "22990  0.0  0.0   0.0  0.0  0.0  0.0  0.0  0.0  0.0  0.0  ...   0.0   0.0   \n",
       "22991  0.0  0.0   0.0  0.0  0.0  0.0  0.0  0.0  0.0  0.0  ...   0.0   0.0   \n",
       "22992  0.0  0.0   0.0  0.0  0.0  0.0  0.0  0.0  0.0  0.0  ...   0.0   0.0   \n",
       "22993  0.0  0.0   0.0  0.0  0.0  0.0  0.0  0.0  0.0  0.0  ...   0.0   0.0   \n",
       "\n",
       "       6045  6046  6047  cluster_label  trj  time  frame  \\\n",
       "22609   0.0   0.0   0.0              2   47     6    101   \n",
       "22610   0.0   0.0   0.0              2   47     6    201   \n",
       "22611   0.0   0.0   0.0              2   47     6    301   \n",
       "22612   0.0   0.0   0.0              2   47     6    401   \n",
       "22613   0.0   0.0   0.0              2   47     6    501   \n",
       "...     ...   ...   ...            ...  ...   ...    ...   \n",
       "22989   0.0   0.0   0.0              2   47     9   8901   \n",
       "22990   0.0   0.0   0.0              2   47     9   9001   \n",
       "22991   0.0   0.0   0.0              2   47     9   9101   \n",
       "22992   0.0   0.0   0.0              2   47     9   9201   \n",
       "22993   0.0   0.0   0.0              2   47     9   9301   \n",
       "\n",
       "                      ctm_label  \n",
       "22609   47th_trj-6m-101th_frame  \n",
       "22610   47th_trj-6m-201th_frame  \n",
       "22611   47th_trj-6m-301th_frame  \n",
       "22612   47th_trj-6m-401th_frame  \n",
       "22613   47th_trj-6m-501th_frame  \n",
       "...                         ...  \n",
       "22989  47th_trj-9m-8901th_frame  \n",
       "22990  47th_trj-9m-9001th_frame  \n",
       "22991  47th_trj-9m-9101th_frame  \n",
       "22992  47th_trj-9m-9201th_frame  \n",
       "22993  47th_trj-9m-9301th_frame  \n",
       "\n",
       "[385 rows x 6053 columns]"
      ]
     },
     "execution_count": 64,
     "metadata": {},
     "output_type": "execute_result"
    }
   ],
   "source": [
    "data_with_clusters.loc[(data_with_clusters['cluster_label']==2)&(data_with_clusters['trj']==47)]"
   ]
  },
  {
   "cell_type": "code",
   "execution_count": 10,
   "id": "9c5e930d",
   "metadata": {},
   "outputs": [
    {
     "data": {
      "text/plain": [
       "<Figure size 1400x800 with 0 Axes>"
      ]
     },
     "metadata": {},
     "output_type": "display_data"
    }
   ],
   "source": [
    "plt.figure(figsize=(14, 8))\n",
    "R = dendrogram(Z,p=n_k,truncate_mode='lastp',no_plot=True)"
   ]
  },
  {
   "cell_type": "code",
   "execution_count": 11,
   "id": "dc3d7008",
   "metadata": {},
   "outputs": [],
   "source": [
    "#change label for dendrogram leaves\n",
    "temp = {R[\"leaves\"][ii]:(ii+1, cluster_sizes[ii]/len(data)*100) for ii in range(len(R[\"leaves\"]))}\n",
    "def llf(xx):\n",
    "     return 'C{} {}%'.format(temp[xx][0],'%.2f'%temp[xx][1])"
   ]
  },
  {
   "cell_type": "code",
   "execution_count": 12,
   "id": "fb6783df",
   "metadata": {},
   "outputs": [
    {
     "data": {
      "image/png": "[encoded data removed]",
      "text/plain": [
       "<Figure size 640x480 with 1 Axes>"
      ]
     },
     "metadata": {},
     "output_type": "display_data"
    }
   ],
   "source": [
    "R = dendrogram(Z,p=n_k,truncate_mode='lastp',leaf_label_func=llf,leaf_rotation=60, leaf_font_size=8,color_threshold=1400)"
   ]
  },
  {
   "cell_type": "markdown",
   "id": "0e9e30a7",
   "metadata": {},
   "source": [
    "# Ab40"
   ]
  },
  {
   "cell_type": "code",
   "execution_count": null,
   "id": "dc8282a8",
   "metadata": {},
   "outputs": [],
   "source": [
    "# loacate centroid id to micie files\n",
    "def line2movie(n):\n",
    "    movie_series = [i for i in range(500,5000,500)]\n",
    "    if n%50 == 0:\n",
    "        no_trj = n//50\n",
    "    else:\n",
    "        no_trj = n//50+1\n",
    "    if n%50 == 0:\n",
    "        seq_line = 50\n",
    "    else:\n",
    "        seq_line = n%50\n",
    "    if no_trj%50 == 0:\n",
    "        cl = no_trj//50\n",
    "        trj = 50\n",
    "    else:\n",
    "        cl = no_trj//50+1\n",
    "        trj = no_trj%50\n",
    "    if seq_line%50 == 0:\n",
    "        time_period = seq_line//10 + 11\n",
    "        snap = 5000\n",
    "    else:\n",
    "        time_period = seq_line//10+1 + 11\n",
    "        snap = movie_series[seq_line%10-1]\n",
    "    return 'cl={} j={} time_period={} snapshot={}'.format(cl,trj,time_period,snap)\n",
    "for i in range(len(centroid_id)):\n",
    "    print(f'Cluster: {i+1} '+line2movie(centroid_id[i]))"
   ]
  },
  {
   "cell_type": "code",
   "execution_count": null,
   "id": "7c6ba3b6",
   "metadata": {},
   "outputs": [],
   "source": [
    "plt.figure(figsize=(14, 8))\n",
    "R = dendrogram(Z,p=n_k,truncate_mode='lastp',no_plot=True)\n",
    "#print(\"values passed to leaf_label_func\\nleaves : \", R[\"leaves\"])\n",
    "#print(R['ivl'])"
   ]
  },
  {
   "cell_type": "code",
   "execution_count": null,
   "id": "4205acd8",
   "metadata": {},
   "outputs": [],
   "source": [
    "#change label for dendrogram leaves\n",
    "temp = {R[\"leaves\"][ii]:(ii+1, cluster_sizes[ii]/len(data)*100) for ii in range(len(R[\"leaves\"]))}\n",
    "def llf(xx):\n",
    "     return 'C:{} {}%'.format(temp[xx][0],'%.2f'%temp[xx][1])"
   ]
  },
  {
   "cell_type": "code",
   "execution_count": null,
   "id": "c4670bfe",
   "metadata": {},
   "outputs": [],
   "source": [
    "R = dendrogram(Z,p=n_k,truncate_mode='lastp',leaf_label_func=llf,leaf_rotation=60, leaf_font_size=8,color_threshold=1400)"
   ]
  },
  {
   "cell_type": "code",
   "execution_count": null,
   "id": "16229daa",
   "metadata": {},
   "outputs": [],
   "source": [
    "type(cluster_sizes)"
   ]
  },
  {
   "cell_type": "code",
   "execution_count": null,
   "id": "30ad6302",
   "metadata": {},
   "outputs": [],
   "source": [
    "cluster_sizes/(len(data)-cluster_sizes[0]-cluster_sizes[12])*100"
   ]
  },
  {
   "cell_type": "code",
   "execution_count": null,
   "id": "3e946de3",
   "metadata": {},
   "outputs": [],
   "source": [
    "cluster_sizes[0]"
   ]
  },
  {
   "cell_type": "code",
   "execution_count": null,
   "id": "fb69e345",
   "metadata": {},
   "outputs": [],
   "source": [
    "cluster_sizes[12]"
   ]
  }
 ],
 "metadata": {
  "kernelspec": {
   "display_name": "Python 3 (ipykernel)",
   "language": "python",
   "name": "python3"
  },
  "language_info": {
   "codemirror_mode": {
    "name": "ipython",
    "version": 3
   },
   "file_extension": ".py",
   "mimetype": "text/x-python",
   "name": "python",
   "nbconvert_exporter": "python",
   "pygments_lexer": "ipython3",
   "version": "3.10.13"
  }
 },
 "nbformat": 4,
 "nbformat_minor": 5
}
